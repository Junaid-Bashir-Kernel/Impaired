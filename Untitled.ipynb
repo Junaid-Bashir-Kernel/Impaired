{
 "cells": [
  {
   "cell_type": "code",
   "execution_count": null,
   "id": "1f1ff999-863f-424b-84bb-654b0ba20973",
   "metadata": {},
   "outputs": [],
   "source": [
    "import tensorflow as tf\n",
    "import tensorflow_hub as hub\n",
    "import cv2\n",
    "import pandas as pd\n",
    "import pyttsx3\n",
    "\n",
    "detector=hub.load(\"https://tfhub.dev/tensorflow/efficientdet/lite2/detection/1\")\n",
    "labels=pd.read_csv('labels.csv',sep=';',index_col='ID')\n",
    "labels=labels['OBJECT (2017 REL.)']\n",
    "\n",
    "capture=cv2.VideoCapture(0)\n",
    "width = 512\n",
    "height = 512\n",
    "while(True):\n",
    "      #Capture frame-by-frame\n",
    "    ret, frame =capture.read()\n",
    "    #Resize to respect the input_shape\n",
    "    Reimage= cv2.resize(frame, (width , height ))\n",
    "     #Convert img to RGB\n",
    "    rgbimage = cv2.cvtColor(Reimage, cv2.COLOR_BGR2RGB)\n",
    "    #(float convertion and convert img to tensor image)\n",
    "    rgbimage_tensor = tf.convert_to_tensor(rgbimage, dtype=tf.uint8)\n",
    "     #Add dims to rgb_tensor\n",
    "    rgbimage_tensor_dim = tf.expand_dims(rgbimage_tensor , 0)\n",
    "    \n",
    "    boxes, scores, classes, num_detections = detector(rgbimage_tensor_dim)\n",
    "    pred_labels = classes.numpy().astype('int')[0]\n",
    "    pred_labels = [labels[i] for i in pred_labels]\n",
    "    pred_boxes = boxes.numpy()[0].astype('int')\n",
    "    pred_scores = scores.numpy()[0]\n",
    "    for score , (ymin,xmin,ymax,xmax), label in zip(pred_scores,pred_boxes, pred_labels):\n",
    "        if score < 0.5:\n",
    "            continue\n",
    "            \n",
    "        img_boxes = cv2.rectangle(rgbimage,(xmin, ymax),(xmax, ymin),(0,255,0),1)      \n",
    "        font = cv2.FONT_HERSHEY_SIMPLEX\n",
    "        cv2.putText(img_boxes,label,(xmin, ymax-10), font, 0.5, (255,0,0), 1, cv2.LINE_AA)\n",
    "        engine = pyttsx3.init()\n",
    "        engine.say(label)\n",
    "        engine.runAndWait()\n",
    "\n",
    "        #Display the resulting frame\n",
    "        cv2.imshow('black and white',img_boxes)\n",
    "        \n",
    "        if cv2.waitKey(1) & 0xFF == ord('q'):\n",
    "             break\n",
    "            \n",
    "cap.release()\n",
    "cv2.destroyAllWindows()"
   ]
  },
  {
   "cell_type": "code",
   "execution_count": null,
   "id": "4331ba83-4f01-4107-ac60-4346c53c6272",
   "metadata": {},
   "outputs": [],
   "source": []
  }
 ],
 "metadata": {
  "kernelspec": {
   "display_name": "Impaired",
   "language": "python",
   "name": "impaired"
  },
  "language_info": {
   "codemirror_mode": {
    "name": "ipython",
    "version": 3
   },
   "file_extension": ".py",
   "mimetype": "text/x-python",
   "name": "python",
   "nbconvert_exporter": "python",
   "pygments_lexer": "ipython3",
   "version": "3.10.0"
  }
 },
 "nbformat": 4,
 "nbformat_minor": 5
}
